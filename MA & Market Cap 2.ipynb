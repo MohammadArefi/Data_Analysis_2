{
 "cells": [
  {
   "cell_type": "markdown",
   "id": "b4a3cbaf",
   "metadata": {},
   "source": [
    "# task 2 "
   ]
  },
  {
   "cell_type": "markdown",
   "id": "7de67227",
   "metadata": {},
   "source": [
    "# import neccesary libraries"
   ]
  },
  {
   "cell_type": "code",
   "execution_count": 1,
   "id": "25d788be",
   "metadata": {},
   "outputs": [],
   "source": [
    "import pandas as pd\n",
    "import matplotlib.pyplot as plt\n",
    "import numpy as np\n",
    "import datetime"
   ]
  },
  {
   "cell_type": "markdown",
   "id": "c3a9daf8",
   "metadata": {},
   "source": [
    "# read files"
   ]
  },
  {
   "cell_type": "code",
   "execution_count": 2,
   "id": "8b40bded",
   "metadata": {},
   "outputs": [],
   "source": [
    "df1 = pd.read_csv(r'C:\\Users\\Mohammad\\Desktop\\task\\task 2\\gkp_monitor.csv')\n",
    "df2 = pd.read_csv(r'C:\\Users\\Mohammad\\Desktop\\task\\task 2\\gkp_monitor2.csv')"
   ]
  },
  {
   "cell_type": "markdown",
   "id": "b8b013c7",
   "metadata": {},
   "source": [
    "# rename 'Unnamed : 0' column to 'datetime'"
   ]
  },
  {
   "cell_type": "code",
   "execution_count": 3,
   "id": "48642ac0",
   "metadata": {},
   "outputs": [],
   "source": [
    "df1 = df1.rename(columns={\"Unnamed: 0\": \"datetime\"})\n",
    "df2 = df2.rename(columns={\"Unnamed: 0\": \"datetime\"})"
   ]
  },
  {
   "cell_type": "markdown",
   "id": "6d6ce2a0",
   "metadata": {},
   "source": [
    "# specify value of  '>1' & '<1' & '=1' \n",
    "### and insert into new column 'mean_revert'"
   ]
  },
  {
   "cell_type": "code",
   "execution_count": 4,
   "id": "8434db2e",
   "metadata": {},
   "outputs": [],
   "source": [
    "conditions = [\n",
    "(df1['basket_value'] > 1),\n",
    "(df1['basket_value'] < 1), \n",
    "(df1['basket_value'] == 1),\n",
    "]\n",
    "values = [2 , 0 , 1 ]\n",
    "df1['mean_revert'] = np.select(conditions,values)\n",
    "\n",
    "conditions = [\n",
    "(df2['basket_value'] > 1),\n",
    "(df2['basket_value'] < 1), \n",
    "(df2['basket_value'] == 1),\n",
    "]\n",
    "values = [2 , 0 , 1 ]\n",
    "df2['mean_revert'] = np.select(conditions,values)"
   ]
  },
  {
   "cell_type": "markdown",
   "id": "952dfed6",
   "metadata": {},
   "source": [
    "# specify data value difference\n",
    "### and insert into new column 'diffrent'"
   ]
  },
  {
   "cell_type": "code",
   "execution_count": 5,
   "id": "7bb957c4",
   "metadata": {},
   "outputs": [],
   "source": [
    "df1['diffrent'] = df1['mean_revert'].diff()\n",
    "df2['diffrent'] = df2['mean_revert'].diff()"
   ]
  },
  {
   "cell_type": "markdown",
   "id": "e99bbd37",
   "metadata": {},
   "source": [
    "# specify number of collisions with mean line  = 1\n",
    "### and insert into x1 , x2"
   ]
  },
  {
   "cell_type": "code",
   "execution_count": 6,
   "id": "8aaff878",
   "metadata": {},
   "outputs": [],
   "source": [
    "x1 = df1[df1.basket_value == 1].count()[\"basket_value\"] + df1[df1['diffrent'] == -2].count()['diffrent'] + df1[df1['diffrent'] == 2].count()['diffrent']\n",
    "x2 = df2[df2.basket_value == 1].count()[\"basket_value\"] + df2[df2['diffrent'] == -2].count()['diffrent'] + df2[df2['diffrent'] == 2].count()['diffrent']"
   ]
  },
  {
   "cell_type": "markdown",
   "id": "6561ad21",
   "metadata": {},
   "source": [
    "# define \"y\" function with 2 input : dataframe and m\n",
    "# then  specify value of  '>1+m' & '<1+m' & '=1+m'\n",
    "### and insert into new column 'mean_revert_high'\n",
    "# do this for '1-m' and insert into new column 'mean_revert_low'\n",
    "# specify data value difference\n",
    "### and insert into new column 'diffrent_high' and 'diffrent_low'\n",
    "# specify number of collisions with mean line  = 1+m and mean line = 1-m\n",
    "### and insert into 'count_of_high' , 'count_of_low'\n",
    "## return sum of count_of_high , count_of_low"
   ]
  },
  {
   "cell_type": "code",
   "execution_count": 7,
   "id": "eb791dd4",
   "metadata": {},
   "outputs": [],
   "source": [
    "def y(df,m):\n",
    "    conditions = [\n",
    "(df['basket_value'] > 1 + m),\n",
    "(df['basket_value'] == 1 + m),\n",
    "(df['basket_value'] < 1 + m)\n",
    "]\n",
    "    values = [2 , 1 , 0 ]\n",
    "    df['mean_revert_high'] = np.select(conditions,values)\n",
    "\n",
    "    conditions = [\n",
    "(df['basket_value'] > 1 - m),\n",
    "(df['basket_value'] == 1 - m),\n",
    "(df['basket_value'] < 1 - m)\n",
    "\n",
    "]\n",
    "    values = [2 , 1 , 0 ]\n",
    "    df['mean_revert_low'] = np.select(conditions,values)\n",
    "\n",
    "    df['diffrent_high'] = df['mean_revert_high'].diff()\n",
    "    df['diffrent_low'] = df['mean_revert_low'].diff()\n",
    "\n",
    "    count_of_high = df[df.basket_value == 1 + m].count()['basket_value'] +  df[df['diffrent_high'] == -2].count()['diffrent_high'] + df[df['diffrent_high'] == 2].count()['diffrent_high'] \n",
    "    count_of_low = df[df.basket_value == 1 - m].count()['basket_value'] +  df[df['diffrent_low'] == -2].count()['diffrent_low'] + df[df['diffrent_low'] == 2].count()['diffrent_low']\n",
    "    return (count_of_high + count_of_low)"
   ]
  },
  {
   "cell_type": "markdown",
   "id": "2d97990f",
   "metadata": {},
   "source": [
    "# define \"f\" function with 2 input : x , y\n",
    "## return x-y**2"
   ]
  },
  {
   "cell_type": "code",
   "execution_count": 8,
   "id": "95e1c62b",
   "metadata": {},
   "outputs": [],
   "source": [
    "def f(x, y):\n",
    "    return x - (y ** 2) "
   ]
  },
  {
   "cell_type": "markdown",
   "id": "f32328b1",
   "metadata": {},
   "source": [
    "# try for our dataframe and m = 0.051"
   ]
  },
  {
   "cell_type": "code",
   "execution_count": 9,
   "id": "dca00642",
   "metadata": {},
   "outputs": [
    {
     "name": "stdout",
     "output_type": "stream",
     "text": [
      "mean revert of gkp_monitor is : -3235373\n",
      "mean revert of gkp_monitor2 is : -3913053\n"
     ]
    }
   ],
   "source": [
    "m = 0.051\n",
    "y1 = y(df1, m)\n",
    "y2 = y(df2, m)\n",
    "f1 = f(x1, y1)\n",
    "f2 = f(x2, y2)\n",
    "print('mean revert of gkp_monitor is : {0}'.format(f1))\n",
    "print('mean revert of gkp_monitor2 is : {0}'.format(f2))"
   ]
  },
  {
   "cell_type": "markdown",
   "id": "db8e9809",
   "metadata": {},
   "source": [
    "# f1 > f2 ; therefore, gkp_monitor is more mean reversion"
   ]
  },
  {
   "cell_type": "markdown",
   "id": "a34ccbff",
   "metadata": {},
   "source": [
    "# define 'moving average' function with 2 input: dataframe & dyas of moving average \n",
    "## calculate for df1 & df2"
   ]
  },
  {
   "cell_type": "code",
   "execution_count": 10,
   "id": "d249382d",
   "metadata": {},
   "outputs": [],
   "source": [
    "def moving_average(df,days):\n",
    "    df['SMA'] = df['basket_value'].rolling(days * 510).mean()\n",
    "    \n",
    "moving_average(df1, 10)\n",
    "moving_average(df2, 10)"
   ]
  },
  {
   "cell_type": "markdown",
   "id": "6e57c938",
   "metadata": {},
   "source": [
    "# specify value of '>1' & '<1' & '=1'\n",
    "## and insert into new column 'mean_revert_SMA'\n",
    "# specify data value difference\n",
    "## and insert into new column 'diffrent_SMA'"
   ]
  },
  {
   "cell_type": "code",
   "execution_count": 11,
   "id": "11a761cc",
   "metadata": {},
   "outputs": [],
   "source": [
    "conditions = [\n",
    "(df1['SMA'] > 1),\n",
    "(df1['SMA'] < 1), \n",
    "(df1['SMA'] == 1),\n",
    "]\n",
    "values = [2 , 0 , 1 ]\n",
    "df1['mean_revert_SMA'] = np.select(conditions,values)\n",
    "\n",
    "conditions = [\n",
    "(df2['SMA'] > 1),\n",
    "(df2['SMA'] < 1), \n",
    "(df2['SMA'] == 1),\n",
    "]\n",
    "values = [2 , 0 , 1 ]\n",
    "df2['mean_revert_SMA'] = np.select(conditions,values)\n",
    "\n",
    "\n",
    "df1['diffrent_SMA'] = df1['mean_revert_SMA'].diff()\n",
    "df2['diffrent_SMA'] = df2['mean_revert_SMA'].diff()\n",
    "\n",
    "\n",
    "x1_SMA = df1[df1.SMA == 1].count()['SMA'] + df1[df1['diffrent_SMA'] == -2].count()['diffrent_SMA'] + df1[df1['diffrent_SMA'] == 2].count()['diffrent_SMA']\n",
    "x2_SMA = df2[df2.SMA == 1].count()['SMA'] + df2[df2['diffrent_SMA'] == -2].count()['diffrent_SMA'] + df2[df2['diffrent_SMA'] == 2].count()['diffrent_SMA']"
   ]
  },
  {
   "cell_type": "markdown",
   "id": "3033bddf",
   "metadata": {},
   "source": [
    "# define \"y_SMA\" function with 2 input : dataframe and m\n",
    "# then  specify value of  '>1+m' & '<1+m' & '=1+m'\n",
    "### and insert into new column 'mean_revert_SMA_high'\n",
    "# do this for '1-m' and insert into new column 'mean_revert_SMA_low'\n",
    "# specify data value difference\n",
    "### and insert into new column 'diffrent_SMA_high' and 'diffrent_SMA_low'\n",
    "# specify number of collisions with mean line  = 1+m and mean line = 1-m\n",
    "### and insert into 'count_of_SMA_high' , 'count_of_SMA_low'\n",
    "## return sum of count_of_SMA_high , count_of_SMA_low"
   ]
  },
  {
   "cell_type": "code",
   "execution_count": 12,
   "id": "ac117957",
   "metadata": {},
   "outputs": [],
   "source": [
    "def y_SMA(df,m):\n",
    "    conditions = [\n",
    "(df['SMA'] > 1 + m),\n",
    "(df['SMA'] == 1 + m),\n",
    "(df['SMA'] < 1 + m)\n",
    "]\n",
    "    values = [2 , 1 , 0 ]\n",
    "    df['mean_revert_SMA_high'] = np.select(conditions,values)\n",
    "\n",
    "    conditions = [\n",
    "(df['SMA'] > 1 - m),\n",
    "(df['SMA'] == 1 - m),\n",
    "(df['SMA'] < 1 - m)\n",
    "\n",
    "]\n",
    "    values = [2 , 1 , 0 ]\n",
    "    df['mean_revert_SMA_low'] = np.select(conditions,values)\n",
    "\n",
    "    df['diffrent_SMA_high'] = df['mean_revert_SMA_high'].diff()\n",
    "    df['diffrent_SMA_low'] = df['mean_revert_SMA_low'].diff()\n",
    "\n",
    "    count_of_SMA_high = df[df.SMA == 1 + m].count()['SMA'] +  df[df['diffrent_SMA_high'] == -2].count()['diffrent_SMA_high'] + df[df['diffrent_SMA_high'] == 2].count()['diffrent_SMA_high'] \n",
    "    count_of_SMA_low = df[df.SMA == 1 - m].count()['SMA'] +  df[df['diffrent_SMA_low'] == -2].count()['diffrent_SMA_low'] + df[df['diffrent_SMA_low'] == 2].count()['diffrent_SMA_low']\n",
    "    return (count_of_SMA_high + count_of_SMA_low)"
   ]
  },
  {
   "cell_type": "markdown",
   "id": "9e2a8bef",
   "metadata": {},
   "source": [
    "# try for our dataframe and m = 0.051"
   ]
  },
  {
   "cell_type": "code",
   "execution_count": 13,
   "id": "8fb5c90d",
   "metadata": {},
   "outputs": [
    {
     "name": "stdout",
     "output_type": "stream",
     "text": [
      "mean revert SMA of gkp_monitor is : 49644\n",
      "mean revert SMA of gkp_monitor2 is : 49006\n"
     ]
    }
   ],
   "source": [
    "m = 0.051\n",
    "y1_SMA = y_SMA(df1, m)\n",
    "y2_SMA = y_SMA(df2, m)\n",
    "f1_SMA = f(x1_SMA, y1_SMA)\n",
    "f2_SMA = f(x2_SMA, y2_SMA)\n",
    "print('mean revert SMA of gkp_monitor is : {0}'.format(f1_SMA))\n",
    "print('mean revert SMA of gkp_monitor2 is : {0}'.format(f2_SMA))"
   ]
  },
  {
   "cell_type": "markdown",
   "id": "f6e53a11",
   "metadata": {},
   "source": [
    "# In this case again f1 > f2 ; therefore, gkp_monitor is more mean reversion"
   ]
  }
 ],
 "metadata": {
  "kernelspec": {
   "display_name": "Python 3",
   "language": "python",
   "name": "python3"
  },
  "language_info": {
   "codemirror_mode": {
    "name": "ipython",
    "version": 3
   },
   "file_extension": ".py",
   "mimetype": "text/x-python",
   "name": "python",
   "nbconvert_exporter": "python",
   "pygments_lexer": "ipython3",
   "version": "3.8.8"
  }
 },
 "nbformat": 4,
 "nbformat_minor": 5
}
